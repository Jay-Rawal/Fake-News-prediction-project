{
 "cells": [
  {
   "cell_type": "markdown",
   "id": "c957c935",
   "metadata": {},
   "source": [
    "# Fake News\n",
    "\n",
    "This project is looking at a dataset from Kaggle where we are creatign a predictive model for detection of fake news."
   ]
  },
  {
   "cell_type": "code",
   "execution_count": null,
   "id": "84228672",
   "metadata": {},
   "outputs": [],
   "source": [
    "import pandas as pd\n",
    "import re\n",
    "from sklearn.model_selection import train_test_split\n",
    "from sklearn.feature_extraction.text import TfidfVectorizer\n",
    "from sklearn.preprocessing import LabelEncoder\n",
    "from sklearn.naive_bayes import MultinomialNB\n",
    "from sklearn.metrics import accuracy_score, classification_report"
   ]
  },
  {
   "cell_type": "code",
   "execution_count": null,
   "id": "2ab62c19",
   "metadata": {},
   "outputs": [],
   "source": [
    "# Simplified text cleaning function without stopwords and stemming\n",
    "def clean_text(text):\n",
    "    text = re.sub(r'\\W', ' ', text.lower())  # Remove all non-word characters\n",
    "    text = re.sub(r'\\s+[a-zA-Z]\\s+', ' ', text)  # Remove all single characters\n",
    "    text = re.sub(r'\\^[a-zA-Z]\\s+', ' ', text)  # Remove single characters from the start\n",
    "    text = re.sub(r'\\s+', ' ', text, flags=re.I)  # Replace multiple spaces with a single space\n",
    "    text = re.sub(r'^b\\s+', '', text)  # Remove prefixed 'b'\n",
    "    return text"
   ]
  },
  {
   "cell_type": "code",
   "execution_count": null,
   "id": "f09906c3",
   "metadata": {},
   "outputs": [],
   "source": [
    "# Load data (Assumes that the CSV file is in the current working directory)\n",
    "data = pd.read_csv('news.csv')"
   ]
  },
  {
   "cell_type": "code",
   "execution_count": null,
   "id": "94d816c0",
   "metadata": {},
   "outputs": [],
   "source": [
    "# Clean the text data\n",
    "data['text_clean'] = data['text'].apply(clean_text)"
   ]
  },
  {
   "cell_type": "code",
   "execution_count": null,
   "id": "44ec2240",
   "metadata": {},
   "outputs": [],
   "source": [
    "# Feature extraction\n",
    "tfidf_vectorizer = TfidfVectorizer(max_features=5000)\n",
    "X = tfidf_vectorizer.fit_transform(data['text_clean'])\n",
    "y = data['label']"
   ]
  },
  {
   "cell_type": "code",
   "execution_count": null,
   "id": "edd88445",
   "metadata": {},
   "outputs": [],
   "source": [
    "# Encode labels\n",
    "label_encoder = LabelEncoder()\n",
    "y_encoded = label_encoder.fit_transform(y)"
   ]
  },
  {
   "cell_type": "code",
   "execution_count": null,
   "id": "63ccbd55",
   "metadata": {},
   "outputs": [],
   "source": [
    "# Split data\n",
    "X_train, X_test, y_train, y_test = train_test_split(X, y_encoded, test_size=0.2, random_state=42)"
   ]
  },
  {
   "cell_type": "code",
   "execution_count": null,
   "id": "45198838",
   "metadata": {},
   "outputs": [],
   "source": [
    "# Initialize classifier\n",
    "classifier = MultinomialNB()"
   ]
  },
  {
   "cell_type": "code",
   "execution_count": null,
   "id": "755c6623",
   "metadata": {},
   "outputs": [],
   "source": [
    "# Train classifier\n",
    "classifier.fit(X_train, y_train)"
   ]
  },
  {
   "cell_type": "code",
   "execution_count": null,
   "id": "43f2b84f",
   "metadata": {},
   "outputs": [],
   "source": [
    "# Predict\n",
    "y_pred = classifier.predict(X_test)"
   ]
  },
  {
   "cell_type": "code",
   "execution_count": null,
   "id": "27159ef2",
   "metadata": {},
   "outputs": [],
   "source": [
    "# Evaluate\n",
    "accuracy = accuracy_score(y_test, y_pred)\n",
    "classification_rep = classification_report(y_test, y_pred, target_names=label_encoder.classes_)"
   ]
  },
  {
   "cell_type": "code",
   "execution_count": null,
   "id": "837b465d",
   "metadata": {},
   "outputs": [],
   "source": [
    "# Print the evaluation results\n",
    "print(f'Accuracy: {accuracy}')\n",
    "print(f'Classification Report: \\n{classification_rep}')"
   ]
  },
  {
   "cell_type": "code",
   "execution_count": null,
   "id": "31bd9b7d",
   "metadata": {},
   "outputs": [],
   "source": [
    "# Save the model and vectorizer for later use\n",
    "pd.to_pickle(classifier, 'fake_news_classifier.pkl')\n",
    "pd.to_pickle(tfidf_vectorizer, 'tfidf_vectorizer.pkl')\n"
   ]
  }
 ],
 "metadata": {
  "kernelspec": {
   "display_name": "Python 3 (ipykernel)",
   "language": "python",
   "name": "python3"
  },
  "language_info": {
   "codemirror_mode": {
    "name": "ipython",
    "version": 3
   },
   "file_extension": ".py",
   "mimetype": "text/x-python",
   "name": "python",
   "nbconvert_exporter": "python",
   "pygments_lexer": "ipython3",
   "version": "3.11.3"
  }
 },
 "nbformat": 4,
 "nbformat_minor": 5
}
